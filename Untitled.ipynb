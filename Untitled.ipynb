{
  "nbformat": 4,
  "nbformat_minor": 0,
  "metadata": {
    "colab": {
      "provenance": [],
      "collapsed_sections": [],
      "authorship_tag": "ABX9TyNXp21eE5d7WfXOR+IfJefs",
      "include_colab_link": true
    },
    "kernelspec": {
      "name": "python3",
      "display_name": "Python 3"
    },
    "language_info": {
      "name": "python"
    }
  },
  "cells": [
    {
      "cell_type": "markdown",
      "metadata": {
        "id": "view-in-github",
        "colab_type": "text"
      },
      "source": [
        "<a href=\"https://colab.research.google.com/github/KangMJ726/DAP/blob/main/Untitled.ipynb\" target=\"_parent\"><img src=\"https://colab.research.google.com/assets/colab-badge.svg\" alt=\"Open In Colab\"/></a>"
      ]
    },
    {
      "cell_type": "markdown",
      "source": [
        "**1번 문제**\n",
        "\n",
        "\n",
        "어떤 기준으로 score 값을 채점하는지 안써져 있어서 임의로 정했는데 보통 이 조건인 경우가 맞아서 아마 괜찮을거야. 근데 그래도 혹시 모르니까 수업 때 이런 비슷한 문제 예전에 푼거 있으면 거기 조건이랑 비교해봐.\n",
        "\n"
      ],
      "metadata": {
        "id": "u4tv6Xu9Pu_G"
      }
    },
    {
      "cell_type": "code",
      "execution_count": 1,
      "metadata": {
        "id": "UiSrkBupBt4A"
      },
      "outputs": [],
      "source": [
        "def check_score(score):\n",
        "  if score >= 90:\n",
        "    return \"A\"\n",
        "  elif score >= 80:\n",
        "    return \"B\"\n",
        "  elif score >= 70:\n",
        "    return \"C\"\n",
        "  elif score >= 60:\n",
        "    return \"D\"\n",
        "  else:\n",
        "    return \"F\""
      ]
    },
    {
      "cell_type": "code",
      "source": [
        "grade = check_score(70)\n",
        "print(\"성적 : \", grade)"
      ],
      "metadata": {
        "colab": {
          "base_uri": "https://localhost:8080/"
        },
        "id": "0NbcLgJeENJI",
        "outputId": "c4292275-f730-4e2b-a55b-ff3075fb19c7"
      },
      "execution_count": 2,
      "outputs": [
        {
          "output_type": "stream",
          "name": "stdout",
          "text": [
            "성적 :  C\n"
          ]
        }
      ]
    },
    {
      "cell_type": "code",
      "source": [
        "grade = check_score(97)\n",
        "print(\"성적 : \", grade)"
      ],
      "metadata": {
        "colab": {
          "base_uri": "https://localhost:8080/"
        },
        "id": "vgFCCqFDERRG",
        "outputId": "6decc529-160c-4838-b6a3-3daae9e5733d"
      },
      "execution_count": 3,
      "outputs": [
        {
          "output_type": "stream",
          "name": "stdout",
          "text": [
            "성적 :  A\n"
          ]
        }
      ]
    },
    {
      "cell_type": "markdown",
      "source": [
        "**2번 문제**\n",
        "\n",
        "문자열 출력할 때 %d 이렇게 지정해주는 거 배웠지? 문제 예시랑 띄어쓰기 똑같이 하려면 써야하긴 했는데 안배운 부분이면 쓰면 안될 수 있으니까 마지막 문장 그냥 print(\"오늘은 10월 \", data, \"일 입니다.\") 이렇게 해야해."
      ],
      "metadata": {
        "id": "UK2VFj1DQVZV"
      }
    },
    {
      "cell_type": "code",
      "source": [
        "def today(n,data):\n",
        "  if data <= 0 or data >= 32:\n",
        "    print(\"data를 다시 입력해주세요.\")\n",
        "  else:\n",
        "    for n in range(0,n):\n",
        "      print(\"오늘은 10월 %d일 입니다.\" %data)"
      ],
      "metadata": {
        "id": "SpwWQCyQFXQy"
      },
      "execution_count": 30,
      "outputs": []
    },
    {
      "cell_type": "code",
      "source": [
        "today(5,10)"
      ],
      "metadata": {
        "colab": {
          "base_uri": "https://localhost:8080/"
        },
        "id": "ie_aZSGxFcq5",
        "outputId": "b9df8b99-dbc5-4397-ffb9-b7259dcb1c37"
      },
      "execution_count": 31,
      "outputs": [
        {
          "output_type": "stream",
          "name": "stdout",
          "text": [
            "오늘은 10월 10일 입니다.\n",
            "오늘은 10월 10일 입니다.\n",
            "오늘은 10월 10일 입니다.\n",
            "오늘은 10월 10일 입니다.\n",
            "오늘은 10월 10일 입니다.\n"
          ]
        }
      ]
    },
    {
      "cell_type": "code",
      "source": [
        "today(3,2)"
      ],
      "metadata": {
        "colab": {
          "base_uri": "https://localhost:8080/"
        },
        "id": "cr2BR28bG3lO",
        "outputId": "bdba5037-9571-4d7b-b49c-828e469ab0f0"
      },
      "execution_count": 14,
      "outputs": [
        {
          "output_type": "stream",
          "name": "stdout",
          "text": [
            "오늘은 10월 2일 입니다.\n",
            "오늘은 10월 2일 입니다.\n",
            "오늘은 10월 2일 입니다.\n"
          ]
        }
      ]
    },
    {
      "cell_type": "code",
      "source": [
        "today(4,-5)"
      ],
      "metadata": {
        "colab": {
          "base_uri": "https://localhost:8080/"
        },
        "id": "LLf1i9yNG3of",
        "outputId": "e6a36fae-5072-4251-c622-e2b1d8b5246a"
      },
      "execution_count": 15,
      "outputs": [
        {
          "output_type": "stream",
          "name": "stdout",
          "text": [
            "data를 다시 입력해주세요.\n"
          ]
        }
      ]
    },
    {
      "cell_type": "markdown",
      "source": [
        "**3번 문제**\n",
        "\n",
        "이게 제일 애매하다. 평균 함수에서 기본적으로 반올림하면 예시랑 다르게 첫번째 average = 242 나오는게 맞아서... 일부러 꼬아서 낸건지 아니면 그냥 오타인건지... 일단 꼬아서 냈다고 생각하고 짰어. 원래 반올림하는 함수 round()에서는 소수점이 0.5가 나오면 홀수일 땐 올림하고 짝수일 땐 내림하는? 그런건데 예시에선 짝수인데도 올림을 해버려서... 그냥 0.5 나오면 무조건  올림하도록 해놓은거야. 그렇게 꼬아서 문제 낼 사람이 아니다, 오타일거다 싶으면 걍 average 함수에서 if부터 else까지 지우고 마지막 return만 돌아가게 해서 내."
      ],
      "metadata": {
        "id": "IgjKjPwhRIch"
      }
    },
    {
      "cell_type": "code",
      "source": [
        "def sum(a,b):\n",
        "  return a+b\n",
        "\n",
        "def sub(a,b):\n",
        "  return a-b\n",
        "\n",
        "def average(a,b):\n",
        "  if (a+b)/2 - (a+b)//2 == 0.5 and round((a+b)/2) == (int)((a+b)/2):\n",
        "    return round((a+b)/2)+1\n",
        "  else:\n",
        "    return round((a+b)/2)"
      ],
      "metadata": {
        "id": "QsXFF-ZSI9cm"
      },
      "execution_count": 19,
      "outputs": []
    },
    {
      "cell_type": "code",
      "source": [
        "print(\"sum = \", sum(41,8), \" sub = \", sub(53,15), \" average = \", average(53,432))"
      ],
      "metadata": {
        "colab": {
          "base_uri": "https://localhost:8080/"
        },
        "id": "YxD1CLVdJBLD",
        "outputId": "a74f4620-1d89-4245-9827-83eb1379700d"
      },
      "execution_count": 20,
      "outputs": [
        {
          "output_type": "stream",
          "name": "stdout",
          "text": [
            "sum =  49  sub =  38  average =  243\n"
          ]
        }
      ]
    },
    {
      "cell_type": "code",
      "source": [
        "print(\"sum = \", sum(14,8), \" sub = \", sub(23,15), \" average = \", average(53,43))"
      ],
      "metadata": {
        "colab": {
          "base_uri": "https://localhost:8080/"
        },
        "id": "pykExsETJFv4",
        "outputId": "c75d2b64-ecef-4d9f-d43a-dcf167ff5ddc"
      },
      "execution_count": 21,
      "outputs": [
        {
          "output_type": "stream",
          "name": "stdout",
          "text": [
            "sum =  22  sub =  8  average =  48\n"
          ]
        }
      ]
    },
    {
      "cell_type": "markdown",
      "source": [
        "**4번 문제**"
      ],
      "metadata": {
        "id": "ZUSjdAZWSfLE"
      }
    },
    {
      "cell_type": "code",
      "source": [
        "def fiveTen(n):\n",
        "  for i in range(0,n):\n",
        "    print(\"*\")\n",
        "  if(n <= 5):\n",
        "    print(\"Under or Equal 5\")\n",
        "  elif(n <= 10):\n",
        "    print(\"5 and 10\")\n",
        "  else:\n",
        "    print(\"Over 10\")"
      ],
      "metadata": {
        "id": "co0IW69INhv-"
      },
      "execution_count": 22,
      "outputs": []
    },
    {
      "cell_type": "code",
      "source": [
        "fiveTen(3)"
      ],
      "metadata": {
        "colab": {
          "base_uri": "https://localhost:8080/"
        },
        "id": "1pij9Lt1NjKg",
        "outputId": "2fb56faf-e143-42bb-8c02-d5a4feee3465"
      },
      "execution_count": 23,
      "outputs": [
        {
          "output_type": "stream",
          "name": "stdout",
          "text": [
            "*\n",
            "*\n",
            "*\n",
            "Under or Equal 5\n"
          ]
        }
      ]
    },
    {
      "cell_type": "code",
      "source": [
        "fiveTen(7)"
      ],
      "metadata": {
        "colab": {
          "base_uri": "https://localhost:8080/"
        },
        "id": "ik_5uzDGNlNo",
        "outputId": "f51221d1-298b-441e-f273-f9215750dc3d"
      },
      "execution_count": 24,
      "outputs": [
        {
          "output_type": "stream",
          "name": "stdout",
          "text": [
            "*\n",
            "*\n",
            "*\n",
            "*\n",
            "*\n",
            "*\n",
            "*\n",
            "5 and 10\n"
          ]
        }
      ]
    },
    {
      "cell_type": "markdown",
      "source": [
        "**5번 문제**"
      ],
      "metadata": {
        "id": "A51bIUmdSmL7"
      }
    },
    {
      "cell_type": "code",
      "source": [
        "def fruit(*name):\n",
        "  for n in name:\n",
        "    print(n)\n",
        "    if(n == \"apple\"):\n",
        "      print(\"RED\")"
      ],
      "metadata": {
        "id": "XkgwAbS2OUsv"
      },
      "execution_count": 25,
      "outputs": []
    },
    {
      "cell_type": "code",
      "source": [
        "fruit(\"banna\", \"apple\", \"watermelon\")"
      ],
      "metadata": {
        "colab": {
          "base_uri": "https://localhost:8080/"
        },
        "id": "yG5omcAkOW2d",
        "outputId": "c1f33283-0540-45d2-cd8c-74b15560142c"
      },
      "execution_count": 26,
      "outputs": [
        {
          "output_type": "stream",
          "name": "stdout",
          "text": [
            "banna\n",
            "apple\n",
            "RED\n",
            "watermelon\n"
          ]
        }
      ]
    },
    {
      "cell_type": "code",
      "source": [
        "fruit(\"grapes\", \"pear\", \"mango\")"
      ],
      "metadata": {
        "colab": {
          "base_uri": "https://localhost:8080/"
        },
        "id": "bkpwlGDkOZiA",
        "outputId": "4da85bd3-4c9e-415d-fa05-d261202b0571"
      },
      "execution_count": 27,
      "outputs": [
        {
          "output_type": "stream",
          "name": "stdout",
          "text": [
            "grapes\n",
            "pear\n",
            "mango\n"
          ]
        }
      ]
    }
  ]
}